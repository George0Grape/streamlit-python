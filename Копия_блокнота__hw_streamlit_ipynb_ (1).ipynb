{
  "nbformat": 4,
  "nbformat_minor": 0,
  "metadata": {
    "colab": {
      "provenance": []
    },
    "kernelspec": {
      "name": "python3",
      "display_name": "Python 3"
    },
    "language_info": {
      "name": "python"
    }
  },
  "cells": [
    {
      "cell_type": "markdown",
      "source": [
        "## Анализ температурных данных и мониторинг текущей температуры через OpenWeatherMap API\n",
        "\n",
        "**Описание задания:**  \n",
        "Вы аналитик в компании, занимающейся изучением климатических изменений и мониторингом температур в разных городах. Вам нужно провести анализ исторических данных о температуре для выявления сезонных закономерностей и аномалий. Также необходимо подключить API OpenWeatherMap для получения текущей температуры в выбранных городах и сравнить её с историческими данными.\n",
        "\n",
        "\n",
        "### Цели задания:\n",
        "1. Провести **анализ временных рядов**, включая:\n",
        "   - Вычисление скользящего среднего и стандартного отклонения для сглаживания температурных колебаний.\n",
        "   - Определение аномалий на основе отклонений температуры от $ \\text{скользящее среднее} \\pm 2\\sigma $.\n",
        "   - Построение долгосрочных трендов изменения температуры.\n",
        "   - Любые дополнительные исследования будут вам в плюс.\n",
        "\n",
        "2. Осуществить **мониторинг текущей температуры**:\n",
        "   - Получить текущую температуру через OpenWeatherMap API.\n",
        "   - Сравнить её с историческим нормальным диапазоном для текущего сезона.\n",
        "\n",
        "3. Разработать **интерактивное приложение**:\n",
        "   - Дать пользователю возможность выбрать город.\n",
        "   - Отобразить результаты анализа температур, включая временные ряды, сезонные профили и аномалии.\n",
        "   - Провести анализ текущей температуры в контексте исторических данных.\n",
        "   - Любые графики должны быть интерактивными.\n",
        "\n",
        "\n",
        "### Описание данных\n",
        "Исторические данные о температуре содержатся в файле `temperature_data.csv`, включают:\n",
        "  - `city`: Название города.\n",
        "  - `timestamp`: Дата (с шагом в 1 день).\n",
        "  - `temperature`: Среднесуточная температура (в °C).\n",
        "  - `season`: Сезон года (зима, весна, лето, осень).\n",
        "\n",
        "Код для генерации файла вы найдете ниже.\n",
        "\n",
        "### Этапы выполнения\n",
        "\n",
        "1. **Анализ исторических данных**:\n",
        "   - Вычислить **скользящее среднее** температуры с окном в 30 дней для сглаживания краткосрочных колебаний.\n",
        "   - Рассчитать среднюю температуру и стандартное отклонение для каждого сезона в каждом городе.\n",
        "   - Выявить аномалии, где температура выходит за пределы $ \\text{среднее} \\pm 2\\sigma $.\n",
        "   - Попробуйте распараллелить проведение этого анализа. Сравните скорость выполнения анализа с распараллеливанием и без него.\n",
        "\n",
        "2. **Мониторинг текущей температуры**:\n",
        "   - Подключить OpenWeatherMap API для получения текущей температуры города. Для получения API Key (бесплатно) надо зарегистрироваться на сайте. Обратите внимание, что API Key может активироваться только через 2-3 часа, это нормально. Посему получите ключ заранее.\n",
        "   - Получить текущую температуру для выбранного города через OpenWeatherMap API.\n",
        "   - Определить, является ли текущая температура нормальной, исходя из исторических данных для текущего сезона.\n",
        "   - Данные на самом деле не совсем реальные (сюрпрайз). Поэтому на момент эксперимента погода в Берлине, Каире и Дубае была в рамках нормы, а в Пекине и Москве аномальная. Протестируйте свое решение для разных городов.\n",
        "   - Попробуйте для получения текущей температуры использовать синхронные и асинхронные методы. Что здесь лучше использовать?\n",
        "\n",
        "3. **Создание приложения на Streamlit**:\n",
        "   - Добавить интерфейс для загрузки файла с историческими данными.\n",
        "   - Добавить интерфейс для выбора города (из выпадающего списка).\n",
        "   - Добавить форму для ввода API-ключа OpenWeatherMap. Когда он не введен, данные для текущей погоды не показываются. Если ключ некорректный, выведите на экран ошибку (должно приходить `{\"cod\":401, \"message\": \"Invalid API key. Please see https://openweathermap.org/faq#error401 for more info.\"}`).\n",
        "   - Отобразить:\n",
        "     - Описательную статистику по историческим данным для города, можно добавить визуализации.\n",
        "     - Временной ряд температур с выделением аномалий (например, точками другого цвета).\n",
        "     - Сезонные профили с указанием среднего и стандартного отклонения.\n",
        "   - Вывести текущую температуру через API и указать, нормальна ли она для сезона.\n",
        "\n",
        "### Критерии оценивания\n",
        "\n",
        "- Корректное проведение анализа данных – 1 балл.\n",
        "- Исследование распараллеливания анализа – 1 балл.\n",
        "- Корректный поиск аномалий – 1 балл.\n",
        "- Подключение к API и корректность выполнения запроса – 1 балл.\n",
        "- Проведение эксперимента с синхронным и асинхронным способом запроса к API – 1 балл.\n",
        "- Создание интерфейса приложения streamlit в соответствии с описанием – 3 балла.\n",
        "- Корректное отображение графиков и статистик, а также сезонных профилей – 1 балл.\n",
        "- Корректный вывод текущей температуры в выбранном городе и проведение проверки на ее аномальность – 1 балл.\n",
        "- Любая дополнительная функциональность приветствуется и оценивается бонусными баллами (не более 2 в сумме) на усмотрение проверяющего.\n",
        "\n",
        "### Формат сдачи домашнего задания\n",
        "\n",
        "Решение нужно развернуть в Streamlit Cloud (бесплатно)\n",
        "\n",
        "*   Создаем новый репозиторий на GitHub.  \n",
        "*   Загружаем проект.\n",
        "*   Создаем аккаунт в [Streamlit Cloud](https://streamlit.io/cloud).\n",
        "*   Авторизуемся в Streamlit Cloud.\n",
        "*   Создаем новое приложение в Streamlit Cloud и подключаем GitHub-репозиторий.\n",
        "*   Deploy!\n",
        "\n",
        "Сдать в форму необходимо:\n",
        "1. Ссылку на развернутое в Streamlit Cloud приложение.\n",
        "2. Ссылку на код. Все выводы про, например, использование параллельности/асинхронности опишите в комментариях.\n",
        "\n",
        "Не забудьте удалить ключ API и иную чувствительную информацию.\n",
        "\n",
        "### Полезные ссылки\n",
        "*   [Оформление задачи Титаник на Streamlit](https://github.com/evgpat/streamlit_demo)\n",
        "*   [Документация Streamlit](https://docs.streamlit.io/)\n",
        "*   [Блог о Streamlit](https://blog.streamlit.io/)"
      ],
      "metadata": {
        "id": "bVbHQbDDjw9i"
      }
    },
    {
      "cell_type": "code",
      "source": [
        "import pandas as pd\n",
        "import numpy as np\n",
        "\n",
        "# Реальные средние температуры (примерные данные) для городов по сезонам\n",
        "seasonal_temperatures = {\n",
        "    \"New York\": {\"winter\": 0, \"spring\": 10, \"summer\": 25, \"autumn\": 15},\n",
        "    \"London\": {\"winter\": 5, \"spring\": 11, \"summer\": 18, \"autumn\": 12},\n",
        "    \"Paris\": {\"winter\": 4, \"spring\": 12, \"summer\": 20, \"autumn\": 13},\n",
        "    \"Tokyo\": {\"winter\": 6, \"spring\": 15, \"summer\": 27, \"autumn\": 18},\n",
        "    \"Moscow\": {\"winter\": -10, \"spring\": 5, \"summer\": 18, \"autumn\": 8},\n",
        "    \"Sydney\": {\"winter\": 12, \"spring\": 18, \"summer\": 25, \"autumn\": 20},\n",
        "    \"Berlin\": {\"winter\": 0, \"spring\": 10, \"summer\": 20, \"autumn\": 11},\n",
        "    \"Beijing\": {\"winter\": -2, \"spring\": 13, \"summer\": 27, \"autumn\": 16},\n",
        "    \"Rio de Janeiro\": {\"winter\": 20, \"spring\": 25, \"summer\": 30, \"autumn\": 25},\n",
        "    \"Dubai\": {\"winter\": 20, \"spring\": 30, \"summer\": 40, \"autumn\": 30},\n",
        "    \"Los Angeles\": {\"winter\": 15, \"spring\": 18, \"summer\": 25, \"autumn\": 20},\n",
        "    \"Singapore\": {\"winter\": 27, \"spring\": 28, \"summer\": 28, \"autumn\": 27},\n",
        "    \"Mumbai\": {\"winter\": 25, \"spring\": 30, \"summer\": 35, \"autumn\": 30},\n",
        "    \"Cairo\": {\"winter\": 15, \"spring\": 25, \"summer\": 35, \"autumn\": 25},\n",
        "    \"Mexico City\": {\"winter\": 12, \"spring\": 18, \"summer\": 20, \"autumn\": 15},\n",
        "}\n",
        "\n",
        "# Сопоставление месяцев с сезонами\n",
        "month_to_season = {12: \"winter\", 1: \"winter\", 2: \"winter\",\n",
        "                   3: \"spring\", 4: \"spring\", 5: \"spring\",\n",
        "                   6: \"summer\", 7: \"summer\", 8: \"summer\",\n",
        "                   9: \"autumn\", 10: \"autumn\", 11: \"autumn\"}\n",
        "\n",
        "# Генерация данных о температуре\n",
        "def generate_realistic_temperature_data(cities, num_years=10):\n",
        "    dates = pd.date_range(start=\"2010-01-01\", periods=365 * num_years, freq=\"D\")\n",
        "    data = []\n",
        "\n",
        "    for city in cities:\n",
        "        for date in dates:\n",
        "            season = month_to_season[date.month]\n",
        "            mean_temp = seasonal_temperatures[city][season]\n",
        "            # Добавляем случайное отклонение\n",
        "            temperature = np.random.normal(loc=mean_temp, scale=5)\n",
        "            data.append({\"city\": city, \"timestamp\": date, \"temperature\": temperature})\n",
        "\n",
        "    df = pd.DataFrame(data)\n",
        "    df['season'] = df['timestamp'].dt.month.map(lambda x: month_to_season[x])\n",
        "    return df\n",
        "\n",
        "# Генерация данных\n",
        "data = generate_realistic_temperature_data(list(seasonal_temperatures.keys()))\n",
        "data.to_csv('temperature_data.csv', index=False)\n"
      ],
      "metadata": {
        "id": "SsrwTMhRj6dK"
      },
      "execution_count": null,
      "outputs": []
    },
    {
      "cell_type": "code",
      "source": [
        "pip install streamlit pandas numpy requests plotly pyngrok"
      ],
      "metadata": {
        "id": "0_7THBJjTKEu",
        "outputId": "c666699b-ac2a-415d-947e-b9f31e5e7f49",
        "colab": {
          "base_uri": "https://localhost:8080/"
        }
      },
      "execution_count": null,
      "outputs": [
        {
          "output_type": "stream",
          "name": "stdout",
          "text": [
            "Requirement already satisfied: streamlit in /usr/local/lib/python3.11/dist-packages (1.43.2)\n",
            "Requirement already satisfied: pandas in /usr/local/lib/python3.11/dist-packages (2.2.2)\n",
            "Requirement already satisfied: numpy in /usr/local/lib/python3.11/dist-packages (1.26.4)\n",
            "Requirement already satisfied: requests in /usr/local/lib/python3.11/dist-packages (2.32.3)\n",
            "Requirement already satisfied: plotly in /usr/local/lib/python3.11/dist-packages (5.24.1)\n",
            "Requirement already satisfied: pyngrok in /usr/local/lib/python3.11/dist-packages (7.2.3)\n",
            "Requirement already satisfied: altair<6,>=4.0 in /usr/local/lib/python3.11/dist-packages (from streamlit) (5.5.0)\n",
            "Requirement already satisfied: blinker<2,>=1.0.0 in /usr/local/lib/python3.11/dist-packages (from streamlit) (1.9.0)\n",
            "Requirement already satisfied: cachetools<6,>=4.0 in /usr/local/lib/python3.11/dist-packages (from streamlit) (5.5.2)\n",
            "Requirement already satisfied: click<9,>=7.0 in /usr/local/lib/python3.11/dist-packages (from streamlit) (8.1.8)\n",
            "Requirement already satisfied: packaging<25,>=20 in /usr/local/lib/python3.11/dist-packages (from streamlit) (24.2)\n",
            "Requirement already satisfied: pillow<12,>=7.1.0 in /usr/local/lib/python3.11/dist-packages (from streamlit) (11.1.0)\n",
            "Requirement already satisfied: protobuf<6,>=3.20 in /usr/local/lib/python3.11/dist-packages (from streamlit) (4.25.6)\n",
            "Requirement already satisfied: pyarrow>=7.0 in /usr/local/lib/python3.11/dist-packages (from streamlit) (18.1.0)\n",
            "Requirement already satisfied: tenacity<10,>=8.1.0 in /usr/local/lib/python3.11/dist-packages (from streamlit) (9.0.0)\n",
            "Requirement already satisfied: toml<2,>=0.10.1 in /usr/local/lib/python3.11/dist-packages (from streamlit) (0.10.2)\n",
            "Requirement already satisfied: typing-extensions<5,>=4.4.0 in /usr/local/lib/python3.11/dist-packages (from streamlit) (4.12.2)\n",
            "Requirement already satisfied: watchdog<7,>=2.1.5 in /usr/local/lib/python3.11/dist-packages (from streamlit) (6.0.0)\n",
            "Requirement already satisfied: gitpython!=3.1.19,<4,>=3.0.7 in /usr/local/lib/python3.11/dist-packages (from streamlit) (3.1.44)\n",
            "Requirement already satisfied: pydeck<1,>=0.8.0b4 in /usr/local/lib/python3.11/dist-packages (from streamlit) (0.9.1)\n",
            "Requirement already satisfied: tornado<7,>=6.0.3 in /usr/local/lib/python3.11/dist-packages (from streamlit) (6.4.2)\n",
            "Requirement already satisfied: python-dateutil>=2.8.2 in /usr/local/lib/python3.11/dist-packages (from pandas) (2.8.2)\n",
            "Requirement already satisfied: pytz>=2020.1 in /usr/local/lib/python3.11/dist-packages (from pandas) (2025.1)\n",
            "Requirement already satisfied: tzdata>=2022.7 in /usr/local/lib/python3.11/dist-packages (from pandas) (2025.1)\n",
            "Requirement already satisfied: charset-normalizer<4,>=2 in /usr/local/lib/python3.11/dist-packages (from requests) (3.4.1)\n",
            "Requirement already satisfied: idna<4,>=2.5 in /usr/local/lib/python3.11/dist-packages (from requests) (3.10)\n",
            "Requirement already satisfied: urllib3<3,>=1.21.1 in /usr/local/lib/python3.11/dist-packages (from requests) (2.3.0)\n",
            "Requirement already satisfied: certifi>=2017.4.17 in /usr/local/lib/python3.11/dist-packages (from requests) (2025.1.31)\n",
            "Requirement already satisfied: PyYAML>=5.1 in /usr/local/lib/python3.11/dist-packages (from pyngrok) (6.0.2)\n",
            "Requirement already satisfied: jinja2 in /usr/local/lib/python3.11/dist-packages (from altair<6,>=4.0->streamlit) (3.1.6)\n",
            "Requirement already satisfied: jsonschema>=3.0 in /usr/local/lib/python3.11/dist-packages (from altair<6,>=4.0->streamlit) (4.23.0)\n",
            "Requirement already satisfied: narwhals>=1.14.2 in /usr/local/lib/python3.11/dist-packages (from altair<6,>=4.0->streamlit) (1.30.0)\n",
            "Requirement already satisfied: gitdb<5,>=4.0.1 in /usr/local/lib/python3.11/dist-packages (from gitpython!=3.1.19,<4,>=3.0.7->streamlit) (4.0.12)\n",
            "Requirement already satisfied: six>=1.5 in /usr/local/lib/python3.11/dist-packages (from python-dateutil>=2.8.2->pandas) (1.17.0)\n",
            "Requirement already satisfied: smmap<6,>=3.0.1 in /usr/local/lib/python3.11/dist-packages (from gitdb<5,>=4.0.1->gitpython!=3.1.19,<4,>=3.0.7->streamlit) (5.0.2)\n",
            "Requirement already satisfied: MarkupSafe>=2.0 in /usr/local/lib/python3.11/dist-packages (from jinja2->altair<6,>=4.0->streamlit) (3.0.2)\n",
            "Requirement already satisfied: attrs>=22.2.0 in /usr/local/lib/python3.11/dist-packages (from jsonschema>=3.0->altair<6,>=4.0->streamlit) (25.2.0)\n",
            "Requirement already satisfied: jsonschema-specifications>=2023.03.6 in /usr/local/lib/python3.11/dist-packages (from jsonschema>=3.0->altair<6,>=4.0->streamlit) (2024.10.1)\n",
            "Requirement already satisfied: referencing>=0.28.4 in /usr/local/lib/python3.11/dist-packages (from jsonschema>=3.0->altair<6,>=4.0->streamlit) (0.36.2)\n",
            "Requirement already satisfied: rpds-py>=0.7.1 in /usr/local/lib/python3.11/dist-packages (from jsonschema>=3.0->altair<6,>=4.0->streamlit) (0.23.1)\n"
          ]
        }
      ]
    },
    {
      "cell_type": "code",
      "source": [
        "import os\n",
        "os.environ[\"OPENWEATHER_API_KEY\"] = \"ad5501b1db0b4e17d1e0396615afe47f\""
      ],
      "metadata": {
        "id": "l8feHF_XTMQ8"
      },
      "execution_count": null,
      "outputs": []
    },
    {
      "cell_type": "code",
      "source": [
        "!pkill -f ngrok"
      ],
      "metadata": {
        "id": "Q0ZKrVe6TQrZ"
      },
      "execution_count": null,
      "outputs": []
    },
    {
      "cell_type": "code",
      "source": [
        "import streamlit as st\n",
        "import pandas as pd\n",
        "import numpy as np\n",
        "import requests\n",
        "import plotly.express as px\n",
        "import os\n",
        "import subprocess\n",
        "from pyngrok import ngrok\n",
        "from concurrent.futures import ThreadPoolExecutor\n",
        "import time\n",
        "NGROK_AUTH_TOKEN = \"2uRWQsVBhRrursScvzOfGGB5gYq_4pAq9D9vD8RKjvPfmvriY\"\n",
        "!ngrok authtoken {NGROK_AUTH_TOKEN}\n",
        "def load_data(file):\n",
        "    df = pd.read_csv(file, parse_dates=['timestamp'])\n",
        "    return df\n",
        "def calculate_seasonal_stats(df):\n",
        "    seasonal_stats = df.groupby(['city', 'season'])['temperature'].agg(['mean', 'std']).reset_index()\n",
        "    return seasonal_stats\n",
        "def calculate_moving_average(df, window=30):\n",
        "    df['moving_avg'] = df.groupby('city')['temperature'].transform(lambda x: x.rolling(window, min_periods=1).mean())\n",
        "    return df\n",
        "def detect_anomalies(df, seasonal_stats):\n",
        "    df = df.merge(seasonal_stats, on=['city', 'season'], how='left')\n",
        "    df['upper_bound'] = df['mean'] + 2 * df['std']\n",
        "    df['lower_bound'] = df['mean'] - 2 * df['std']\n",
        "    df['anomaly'] = (df['temperature'] > df['upper_bound']) | (df['temperature'] < df['lower_bound'])\n",
        "    return df\n",
        "def parallel_analysis(df):\n",
        "    start_time = time.time()\n",
        "    with ThreadPoolExecutor() as executor:\n",
        "        seasonal_stats = executor.submit(calculate_seasonal_stats, df).result()\n",
        "        df = executor.submit(calculate_moving_average, df).result()\n",
        "        df = executor.submit(detect_anomalies, df, seasonal_stats).result()\n",
        "    execution_time = time.time() - start_time\n",
        "    return df, seasonal_stats, execution_time\n",
        "API_KEY = os.getenv(\"OPENWEATHER_API_KEY\")\n",
        "\n",
        "def get_current_temperature(city, api_key):\n",
        "    url = f\"https://api.openweathermap.org/data/2.5/weather?q={city}&appid={api_key}&units=metric\"\n",
        "    response = requests.get(url)\n",
        "    if response.status_code == 200:\n",
        "        return response.json()['main']['temp']\n",
        "    else:\n",
        "        return None\n",
        "with open(\"app.py\", \"w\") as f:\n",
        "    f.write(\"\"\"import streamlit as st\n",
        "import pandas as pd\n",
        "import plotly.express as px\n",
        "import requests\n",
        "import os\n",
        "\n",
        "st.title(\"Анализ температурных данных и мониторинг текущей температуры\")\n",
        "\n",
        "uploaded_file = st.file_uploader(\"Загрузите CSV-файл с историческими данными\", type=[\"csv\"])\n",
        "API_KEY = st.text_input(\"Введите API-ключ OpenWeatherMap\", type=\"password\")\n",
        "\n",
        "if API_KEY:\n",
        "    st.session_state[\"api_key\"] = API_KEY\n",
        "    st.success(\"API-ключ успешно введен!\")\n",
        "else:\n",
        "    st.warning(\"Введите API-ключ для получения данных о текущей температуре.\")\n",
        "\n",
        "if uploaded_file:\n",
        "    df = pd.read_csv(uploaded_file, parse_dates=['timestamp'])\n",
        "    st.write(\"### Загруженные данные\")\n",
        "    st.write(df.head())\n",
        "\n",
        "    cities = df['city'].unique()\n",
        "    selected_city = st.selectbox(\"Выберите город\", cities)\n",
        "\n",
        "    city_data = df[df['city'] == selected_city]\n",
        "\n",
        "    fig = px.line(city_data, x='timestamp', y='temperature', title=f'Температура в городе {selected_city} с аномалиями')\n",
        "    st.plotly_chart(fig)\n",
        "\n",
        "    season_fig = px.box(df[df['city'] == selected_city], x='season', y='temperature', title=f'Сезонные профили температуры в городе {selected_city}')\n",
        "    st.plotly_chart(season_fig)\n",
        "\n",
        "    if \"api_key\" in st.session_state:\n",
        "        if st.button(\"Получить текущую температуру\"):\n",
        "            url = f\"https://api.openweathermap.org/data/2.5/weather?q={selected_city}&appid={st.session_state['api_key']}&units=metric\"\n",
        "            response = requests.get(url)\n",
        "            if response.status_code == 200:\n",
        "                current_temp = response.json()['main']['temp']\n",
        "                st.write(f\"### Текущая температура в городе {selected_city}: {current_temp}°C\")\n",
        "            else:\n",
        "                st.error(\"Ошибка при получении данных. Проверьте API-ключ.\")\n",
        "    else:\n",
        "        st.warning(\"Введите API-ключ, чтобы получить данные о текущей температуре.\")\"\"\")\n",
        "port = 8501\n",
        "public_url = ngrok.connect(port).public_url\n",
        "print(f\"Streamlit-приложение доступно по ссылке: {public_url}\")"
      ],
      "metadata": {
        "id": "t7uyLn5DTUUU",
        "outputId": "0ceda758-f990-4276-c60c-dc995dd412c2",
        "colab": {
          "base_uri": "https://localhost:8080/"
        }
      },
      "execution_count": null,
      "outputs": [
        {
          "output_type": "stream",
          "name": "stdout",
          "text": [
            "Authtoken saved to configuration file: /root/.config/ngrok/ngrok.yml\n",
            "Streamlit-приложение доступно по ссылке: https://c4c6-35-221-227-158.ngrok-free.app\n"
          ]
        }
      ]
    },
    {
      "cell_type": "code",
      "source": [
        "subprocess.Popen([\"streamlit\", \"run\", \"app.py\", \"--server.port\", str(port)])"
      ],
      "metadata": {
        "id": "mC0B4SLtThcI",
        "outputId": "cdd5dba3-e377-497b-90cb-b4bfd956ff9c",
        "colab": {
          "base_uri": "https://localhost:8080/"
        }
      },
      "execution_count": null,
      "outputs": [
        {
          "output_type": "execute_result",
          "data": {
            "text/plain": [
              "<Popen: returncode: None args: ['streamlit', 'run', 'app.py', '--server.port...>"
            ]
          },
          "metadata": {},
          "execution_count": 22
        }
      ]
    }
  ]
}